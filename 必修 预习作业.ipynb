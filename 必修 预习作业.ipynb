{
 "cells": [
  {
   "cell_type": "markdown",
   "metadata": {
    "collapsed": false
   },
   "source": [
    "## 预习作业：本地安装飞桨，成功后运行测试代码并截图上传\n",
    "\n",
    "**注意**：**<span style=\"color:red\">作业必须在本地完成</span>**，不是在AIStudio进行操作。**<span style=\"color:red\">该部分在总成绩占比10%</span>**，如遇到问题，请在群聊/讨论区进行询问，会有助教进行解答~\n",
    "\n",
    "你需要做：\n",
    "\n",
    "\t1.安装最新版本PaddlePaddle(2.1.0)\n",
    "安装文档：[https://paddlepaddle.org.cn/install/quick](https://paddlepaddle.org.cn/install/quick)\n",
    "\t\t\n",
    "\t2.本地安装成功,输入测试代码并截图\n",
    "**提示**：安装完成后您可以使用 python 或 python3 进入python解释器，输入import paddle ，再输入 paddle.utils.run_check()\n",
    "\n",
    "如果出现PaddlePaddle is installed successfully!，说明您已成功安装。\n",
    "\n",
    "**注**：以下两个项目是1.多版本时候所写，大致内容是不变的，大家安装的时候请安装2.1.0版本~(CPU/GPU均可)\n",
    "\n",
    "本地安装PaddlePaddle的常见错误：[https://aistudio.baidu.com/aistudio/projectdetail/697227](https://aistudio.baidu.com/aistudio/projectdetail/697227)\n",
    "\n",
    "手把手教你 win10 安装Paddlepaddle-GPU：[https://aistudio.baidu.com/aistudio/projectdetail/696822](https://aistudio.baidu.com/aistudio/projectdetail/696822)\n",
    "\n",
    "\t3.上传截图(下方是上传流程)\n",
    "![](https://ai-studio-static-online.cdn.bcebos.com/129200c3adcd419e9c46b8bfd79f383e80df13f413734a40b67abe9989279b29)\n",
    "\n",
    "![](https://ai-studio-static-online.cdn.bcebos.com/36df9d0672624829ae867fea894c867bdb32519d43d24c5f913df11fc39202a6)"
   ]
  },
  {
   "cell_type": "markdown",
   "metadata": {
    "collapsed": false
   },
   "source": [
    "**######请在这里提交图片######**\n",
    "![](https://ai-studio-static-online.cdn.bcebos.com/45ee01001f3b4c33b059f9e114a045ce3550e9db341842afa696d55a7310d798)\n"
   ]
  },
  {
   "cell_type": "markdown",
   "metadata": {
    "collapsed": false
   },
   "source": [
    "## 提交作业\n",
    "\t1.点击左边版本菜单\n",
    "\n",
    "![](https://ai-studio-static-online.cdn.bcebos.com/a71bc9f3165b4187be03b1bb37d5e566bb3fd8e01a824ff99a105e53e0ccdb5c)\n",
    "\n",
    "\t2.点击生成新版本\n",
    "\n",
    "![](https://ai-studio-static-online.cdn.bcebos.com/326b77deb3164471b71de552ad249a467545890165eb40a989a43292aefa2968)\n",
    "\n",
    "\t3.输入版本名称点击生成即可\n",
    "\n",
    "![](https://ai-studio-static-online.cdn.bcebos.com/d7a9917b326b4227929b168c9dc611ca7dbf8c1acec748ddb6d480a062092d15)\n",
    "\n",
    "\t4.进入课程选择你要提交的作业(忽略那个已删除~)\n",
    "    \n",
    "![](https://ai-studio-static-online.cdn.bcebos.com/5cc21ad39fc94264a98b4c53c3f3daddeaccf1ec0b0045a5983946f410e8bc6d)\n",
    "\n",
    "\t5.点击提交作业\n",
    "\n",
    "![](https://ai-studio-static-online.cdn.bcebos.com/cf254279f6034bb5bb9ff7194ffce8bad4be9f4e1bbc4afb9c42d83c83aaafb9)\n",
    "\n",
    "\t6.择你需要提交的版本\n",
    "    \n",
    "![](https://ai-studio-static-online.cdn.bcebos.com/f0e34a2da6fc4719af851e6365165396538caffd5dcc45fe8243332281084510)\n",
    "\n",
    "\t7.提交完成这里会有显示~\n",
    "\n",
    "![](https://ai-studio-static-online.cdn.bcebos.com/dd31f918e21e4d508f750c182b8e904474e526ed591640f0b08386ebebc7031c)\n",
    "\n",
    "\n"
   ]
  },
  {
   "cell_type": "markdown",
   "metadata": {
    "collapsed": false
   },
   "source": [
    "## 期待表现\n",
    "\n",
    "    1、大家可以在群聊/讨论区进行讨论以及提问等，会有助教以及热心的学员为大家进行解答\n",
    "    2、大家遇到什么问题，以及解决的经验可以写成文章进行发布，给更多的同学提供帮助\n"
   ]
  }
 ],
 "metadata": {
  "kernelspec": {
   "display_name": "PaddlePaddle 2.1.0 (Python 3.5)",
   "language": "python",
   "name": "py35-paddle1.2.0"
  },
  "language_info": {
   "codemirror_mode": {
    "name": "ipython",
    "version": 3
   },
   "file_extension": ".py",
   "mimetype": "text/x-python",
   "name": "python",
   "nbconvert_exporter": "python",
   "pygments_lexer": "ipython3",
   "version": "3.7.4"
  }
 },
 "nbformat": 4,
 "nbformat_minor": 1
}
